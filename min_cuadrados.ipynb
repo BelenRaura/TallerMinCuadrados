{
 "cells": [
  {
   "cell_type": "markdown",
   "metadata": {},
   "source": [
    "# Taller 04\n",
    "## Ajuste de curvas por mínimos cuadrados\n",
    "Nombre:Belen Raura\n",
    "repositorio: https://github.com/BelenRaura/TallerMinCuadrados"
   ]
  },
  {
   "cell_type": "code",
   "execution_count": 3,
   "metadata": {},
   "outputs": [],
   "source": [
    "p1 = (5.4, 3.2)\n",
    "p2_i = (9.5, 0.7)\n",
    "p3 = (12.3, -3.6)"
   ]
  },
  {
   "cell_type": "code",
   "execution_count": 6,
   "metadata": {},
   "outputs": [
    {
     "data": {
      "application/vnd.jupyter.widget-view+json": {
       "model_id": "0b2cc6bfbddc4415a72830f54de45420",
       "version_major": 2,
       "version_minor": 0
      },
      "text/plain": [
       "interactive(children=(FloatSlider(value=8.9, description='p2_x', max=12.3, min=5.5), FloatSlider(value=0.0, de…"
      ]
     },
     "metadata": {},
     "output_type": "display_data"
    }
   ],
   "source": [
    "from ipywidgets import interact\n",
    "import matplotlib.pyplot as plt\n",
    "\n",
    "# Define los puntos iniciales\n",
    "p1 = (5.4, 3.2)  # Primer punto fijo\n",
    "p3 = (12.3, -3.6)  # Tercer punto fijo\n",
    "\n",
    "# Ecuación inicial de la línea\n",
    "m = -1\n",
    "b = 8\n",
    "\n",
    "def update_plot(p2_x, p2_y):\n",
    "    # Actualizar coordenadas de los puntos\n",
    "    x_coords = [p1[0], p2_x, p3[0]]\n",
    "    y_coords = [p1[1], p2_y, p3[1]]\n",
    "\n",
    "    # Graficar los puntos\n",
    "    plt.figure(figsize=(10, 6))\n",
    "    plt.scatter(x_coords, y_coords, color=\"red\", label=\"Puntos\")\n",
    "\n",
    "    # Graficar la línea azul inicial\n",
    "    x_line = [min(x_coords), max(x_coords)]\n",
    "    y_line = [m * x + b for x in x_line]\n",
    "    plt.plot(x_line, y_line, color=\"blue\", label=\"Línea inicial\")\n",
    "\n",
    "    # Calcular la regresión lineal\n",
    "    x_mean = sum(x_coords) / len(x_coords)\n",
    "    y_mean = sum(y_coords) / len(y_coords)\n",
    "    num = sum((x_coords[i] - x_mean) * (y_coords[i] - y_mean) for i in range(len(x_coords)))\n",
    "    den = sum((x_coords[i] - x_mean) ** 2 for i in range(len(x_coords)))\n",
    "    reg_m = num / den\n",
    "    reg_b = y_mean - reg_m * x_mean\n",
    "\n",
    "    # Graficar la línea de regresión\n",
    "    y_line = [reg_m * x + reg_b for x in x_line]\n",
    "    plt.plot(x_line, y_line, color=\"green\", linestyle=\"--\", label=f\"y = {reg_m:.2f}x + {reg_b:.2f}\")\n",
    "\n",
    "    # Configuración del gráfico\n",
    "    plt.xlabel(\"X\")\n",
    "    plt.ylabel(\"Y\")\n",
    "    plt.title(\"Gráfico de Puntos y Regresión Lineal\")\n",
    "    plt.legend()\n",
    "    plt.show()\n",
    "\n",
    "# Crear el widget interactivo\n",
    "_ = interact(update_plot, p2_x=(5.5, 12.3, 0.1), p2_y=(-10.0, 10.0, 0.1))\n"
   ]
  }
 ],
 "metadata": {
  "kernelspec": {
   "display_name": "Python 3",
   "language": "python",
   "name": "python3"
  },
  "language_info": {
   "codemirror_mode": {
    "name": "ipython",
    "version": 3
   },
   "file_extension": ".py",
   "mimetype": "text/x-python",
   "name": "python",
   "nbconvert_exporter": "python",
   "pygments_lexer": "ipython3",
   "version": "3.11.3"
  }
 },
 "nbformat": 4,
 "nbformat_minor": 2
}
